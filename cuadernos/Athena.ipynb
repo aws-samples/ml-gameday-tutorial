{
 "cells": [
  {
   "cell_type": "markdown",
   "metadata": {},
   "source": [
    "<img src=\"./assets/logos/Logo_main.png\" width=500></img> "
   ]
  },
  {
   "cell_type": "markdown",
   "metadata": {},
   "source": [
    "# Amazon Athena\n",
    "Utilizarás Amazon Athena para monitorear el desempeño de tu modelo. Athena te permite ejecutar consultas SQL frente a datos en s3, como los datos de archivo de juego. Puedes ver una consulta de ejemplo ejecutando el siguiente comando:"
   ]
  },
  {
   "cell_type": "code",
   "execution_count": null,
   "metadata": {},
   "outputs": [],
   "source": [
    "!../bin/athena_info.sh"
   ]
  },
  {
   "cell_type": "markdown",
   "metadata": {},
   "source": [
    "1. Ve a la consola de [Athena](https://console.aws.amazon.com/athena/home?region=us-east-1#query)\n",
    "1. Deberás cambiar tu grupo de trabajo de Athena. Selecciona \"grupo de trabajo\". Luego, en la lista selecciona \"GameDay\" y luego \"cambiar grupo de trabajo\".\n",
    "<img src=\"./assets/athena-homepage.jpg\" width=500></img> \n",
    "<img src=\"./assets/athena-workgroups.jpg\" width=500></img> \n",
    "1. utilizarás la siguiente consulta, pero primero deberás obtener algunos valores. Necesitas el nombre del catálogo Amazon Glue que guarda los datos del juego y el bucket s3 donde se guardan esos datos. Estos valores son otorgados por el comando anterior. Reemplazar y con esos valores, entonces por ejemplo, la línea `FROM \"<Game-data-catalog>\".\"<Game-data-bucket>\"` será aproximadamente como `FROM \"game-catalog-adafafdad\".\"game-archive-adfasdfasdf\"`\n",
    "1. A continuación reemplaza las tres veces que aparece con el nombre de tu equipo Por ejemplo, la línea `WHEN winner = '<Team-Name>' THEN 1.0` se transforma en `WHEN winner = 'my-team' THEN 1.0` \n",
    "\n",
    "```sql\n",
    "SELECT type,\n",
    "         sum(won)/(sum(won)+sum(lost)) as won,\n",
    "         sum(lost)/(sum(won)+sum(lost)) as lost\n",
    "FROM \n",
    "    (SELECT json_extract(session,'$.size') AS size,\n",
    "        CASE\n",
    "            WHEN winner = '<Team-Name>' THEN 1.0\n",
    "            ELSE 0.0\n",
    "        END AS won,\n",
    "        CASE\n",
    "            WHEN winner != '<Team-Name>' THEN 1.0\n",
    "            ELSE 0.0\n",
    "        END AS lost\n",
    "    FROM \n",
    "        (SELECT teama.session AS session,\n",
    "         teama.teamname AS team,\n",
    "         winner\n",
    "        FROM \"<Game-data-catalog>\".\"<Game-data-bucket>\"\n",
    "        UNION\n",
    "        SELECT teamb.session AS session,\n",
    "         teamb.teamname AS team,\n",
    "         winner\n",
    "        FROM \"<Game-data-catalog>\".\"<Game-data-bucket>\" )\n",
    "        WHERE team = '<Team-Name>' )\n",
    "    GROUP BY  size\n",
    "```\n",
    "\n",
    "Si recibes un error que dice que no hay una base de datos o tabla en la base de datos, sigue las instrucciones a continuación:\n",
    "1. Ve a la consola de [AWS Glue](https://console.aws.amazon.com/glue/home)\n",
    "1. en el menú del lado izquierdo, selecciona \"Crawlers\":\n",
    "<img src=\"./assets/glue-console-1.jpg\" width=100></img> \n",
    "1. selecciona el motor de búsqueda de archivos y ejecútalo\n",
    "<img src=\"./assets/glue-console-2.jpg\" width=500></img> \n",
    "1. cuando el motor de búsqueda haya finalizado, puedes ejecutar tu consulta"
   ]
  },
  {
   "cell_type": "markdown",
   "metadata": {},
   "source": [
    "## Siguientes pasos\n",
    "Intenta editar los hiperparámetros o el código para obtener mejores resultados."
   ]
  },
  {
   "cell_type": "code",
   "execution_count": null,
   "metadata": {},
   "outputs": [],
   "source": []
  }
 ],
 "metadata": {
  "kernelspec": {
   "display_name": "Python 3",
   "language": "python",
   "name": "python3"
  },
  "language_info": {
   "codemirror_mode": {
    "name": "ipython",
    "version": 3
   },
   "file_extension": ".py",
   "mimetype": "text/x-python",
   "name": "python",
   "nbconvert_exporter": "python",
   "pygments_lexer": "ipython3",
   "version": "3.7.4"
  }
 },
 "nbformat": 4,
 "nbformat_minor": 2
}
