{
 "cells": [
  {
   "cell_type": "markdown",
   "metadata": {},
   "source": [
    "<img src=\"./assets/logos/Logo_main.png\" width=500></img> "
   ]
  },
  {
   "cell_type": "markdown",
   "metadata": {},
   "source": [
    "# Amazon Athena\n",
    "Utilizarás Amazon Athena para monitorear el desempeño de tu modelo. Athena te permite ejecutar consultas SQL frente a datos en s3, como los datos de archivo de juego. Puedes ver una consulta de ejemplo ejecutando el siguiente comando:"
   ]
  },
  {
   "cell_type": "code",
   "execution_count": null,
   "metadata": {},
   "outputs": [],
   "source": [
    "!../bin/athena_info.sh"
   ]
  },
  {
   "cell_type": "markdown",
   "metadata": {},
   "source": [
    "1. Ve a la consola de [Athena](https://console.aws.amazon.com/athena/home?region=us-east-1#query)\n",
    "1. Deberás cambiar tu grupo de trabajo de Athena. Selecciona \"grupo de trabajo\". Luego, en la lista selecciona \"GameDay\" y luego \"cambiar grupo de trabajo\".\n",
    "<img src=\"./assets/athena-homepage.jpg\" width=500></img> \n",
    "<img src=\"./assets/athena-workgroups.jpg\" width=500></img> \n",
    "1. utilizarás la siguiente consulta, pero primero deberás obtener algunos valores. Necesitas el nombre del catálogo Amazon Glue que guarda los datos del juego y el bucket s3 donde se guardan esos datos. Estos valores son otorgados por el comando anterior. Reemplazar y con esos valores, entonces por ejemplo, la línea `FROM \"<Game-data-catalog>\".\"<Game-data-bucket>\"` será aproximadamente como `FROM \"game-catalog-adafafdad\".\"game-archive-adfasdfasdf\"`\n",
    "1. A continuación reemplaza las tres veces que aparece con el nombre de tu equipo Por ejemplo, la línea `WHEN teama = '<Team-Name>' THEN 1.0` se transforma en `WHEN teama = 'my-team' THEN 1.0` \n",
    "\n",
    "```sql\n",
    "SELECT *\n",
    "FROM   (SELECT gameid,\n",
    "               Cast(Cast(teama.teamname AS JSON) AS VARCHAR)\n",
    "               AS\n",
    "                      teama,\n",
    "               Cast(Cast(teamb.teamname AS JSON) AS VARCHAR)\n",
    "               AS\n",
    "                      teamb,\n",
    "               Json_extract(teama.session, '$.shootType')\n",
    "               AS\n",
    "                      teamAShoot,\n",
    "               Json_extract(teama.session, '$.type')\n",
    "               AS\n",
    "                      teamALayout,\n",
    "               Json_extract(teamb.session, '$.shootType')\n",
    "               AS\n",
    "                      teamBShoot,\n",
    "               Json_extract(teamb.session, '$.type')\n",
    "               AS\n",
    "                      teamBLayout,\n",
    "               winner,\n",
    "               Date_format(From_unixtime(start_time / 1000), '%m-%d-%Y %h:%i:%s'\n",
    "               ) AS\n",
    "                      start_time,\n",
    "               Date_format(From_unixtime(end_time / 1000), '%m-%d-%Y %h:%i:%s')\n",
    "               AS\n",
    "                      end_time\n",
    "        FROM\n",
    "\"<Game-data-catalog>\".\"<Game-data-bucket>\") game \n",
    "WHERE  game.teama = '<Team-Name>'\n",
    "ORDER  BY end_time DESC\n",
    "```\n",
    "\n",
    "Si recibes un error que dice que no hay una base de datos o tabla en la base de datos, sigue las instrucciones a continuación:\n",
    "1. Ve a la consola de [AWS Glue](https://console.aws.amazon.com/glue/home)\n",
    "1. en el menú del lado izquierdo, selecciona \"Crawlers\":\n",
    "<img src=\"./assets/glue-console-1.jpg\" width=100></img> \n",
    "1. selecciona el motor de búsqueda de archivos y ejecútalo\n",
    "<img src=\"./assets/glue-console-2.jpg\" width=500></img> \n",
    "1. cuando el motor de búsqueda haya finalizado, puedes ejecutar tu consulta"
   ]
  },
  {
   "cell_type": "markdown",
   "metadata": {},
   "source": [
    "## Siguientes pasos\n",
    "Intenta editar los hiperparámetros o el código para obtener mejores resultados."
   ]
  },
  {
   "cell_type": "code",
   "execution_count": null,
   "metadata": {},
   "outputs": [],
   "source": []
  }
 ],
 "metadata": {
  "kernelspec": {
   "display_name": "Python 3",
   "language": "python",
   "name": "python3"
  },
  "language_info": {
   "codemirror_mode": {
    "name": "ipython",
    "version": 3
   },
   "file_extension": ".py",
   "mimetype": "text/x-python",
   "name": "python",
   "nbconvert_exporter": "python",
   "pygments_lexer": "ipython3",
   "version": "3.6.5"
  }
 },
 "nbformat": 4,
 "nbformat_minor": 2
}
