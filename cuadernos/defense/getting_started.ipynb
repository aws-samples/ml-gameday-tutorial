{
 "cells": [
  {
   "cell_type": "markdown",
   "metadata": {},
   "source": [
    "<img src=\"../assets/logos/Logo_layout.png\" width=500></img>\n"
   ]
  },
  {
   "cell_type": "markdown",
   "metadata": {},
   "source": [
    "## Introducciones\n",
    "Crearás un modelo que crea la distribución de barcos al comienzo de cada juego. A continuación, se describirán las reglas de tu punto final y el siguiente cuadernillo mostrará los detalles de implementar tu punto final. Este repo tiene un código que implementa tres tipos de modelos; una distribución aleatoria con barcos de tamaño 2, distribución que elige barcos de tamaño 2 o 3, y un modelo que ubica los barcos alejados de los disparos iniciales de otros equipos. \n",
    "\n",
    "## Reglas\n",
    "<img src=\"../assets/build/instructions_layout.png\"></img>\n",
    "\n",
    "### Solicitud\n",
    "- __opponent__: El nombre del equipo contra el que estás jugando en este juego\n",
    "- __width & height__: el ancho y la altura del tablero de juego no cambiarán durante un día de juego\n",
    "- __rule set__:\n",
    "    - __ship cells__: cuántas celdas en el tablero que deben estar marcadas como barcos\n",
    "    - __connectedShipCells__: El número mínimo de veces que dos celdas de barcos deben estar adyacentes entre sí, izquierda/derecha o arriba/abajo (no diagonal)\n",
    "\n",
    "### Respuesta\n",
    "- __Layout__: una secuencia de secuencias en la que se indica cómo distribuiste tus barcos\n",
    "    - __empty cell=0__: no hay un barco aquí\n",
    "    - __ship cell=1__: ay un barco aquí\n",
    "- __session__: un objeto de estado de sesión arbitrario que se pasará hasta el punto final del bombardeo\n",
    "\n",
    "### Ejemplos\n",
    "\n",
    "<img src=\"../assets/build/instructions_layout_examples.png\"></img>\n",
    "\n"
   ]
  },
  {
   "cell_type": "markdown",
   "metadata": {},
   "source": [
    "## Desarrollo\n",
    "consulta el [Cuadernillo de punto final](../Endpoint_Reference.ipynb) para ver una descripción de cómo escribir, probar e implementar tu código de modelo"
   ]
  },
  {
   "cell_type": "markdown",
   "metadata": {},
   "source": [
    "## Segunda distribución\n",
    "Tu primer modelo fue implementado por el equipo de operaciones antes de que registraran tu equipo. A continuación, consulta [Segunda implementación](./Analytics.ipynb) para ver cómo configurar tu segundo modelo"
   ]
  },
  {
   "cell_type": "code",
   "execution_count": null,
   "metadata": {},
   "outputs": [],
   "source": []
  }
 ],
 "metadata": {
  "kernelspec": {
   "display_name": "Python 3",
   "language": "python",
   "name": "python3"
  },
  "language_info": {
   "codemirror_mode": {
    "name": "ipython",
    "version": 3
   },
   "file_extension": ".py",
   "mimetype": "text/x-python",
   "name": "python",
   "nbconvert_exporter": "python",
   "pygments_lexer": "ipython3",
   "version": "3.7.4"
  },
  "latex_envs": {
   "LaTeX_envs_menu_present": true,
   "autoclose": false,
   "autocomplete": true,
   "bibliofile": "biblio.bib",
   "cite_by": "apalike",
   "current_citInitial": 1,
   "eqLabelWithNumbers": true,
   "eqNumInitial": 1,
   "hotkeys": {
    "equation": "Ctrl-E",
    "itemize": "Ctrl-I"
   },
   "labels_anchors": false,
   "latex_user_defs": false,
   "report_style_numbering": false,
   "user_envs_cfg": false
  }
 },
 "nbformat": 4,
 "nbformat_minor": 2
}
