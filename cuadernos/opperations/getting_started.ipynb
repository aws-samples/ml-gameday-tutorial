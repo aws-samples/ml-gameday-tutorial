{
 "cells": [
  {
   "cell_type": "markdown",
   "metadata": {},
   "source": [
    "<img src=\"../assets/logos/Logo_operations.png\" width=500></img>\n"
   ]
  },
  {
   "cell_type": "markdown",
   "metadata": {},
   "source": [
    "## ¡Bienvenido!\n",
    "¡Bienvenido al grupo de operaciones! eres responsable de implementar el código y los modelos para tu equipo y esta guía te demostrará cómo hacer tu trabajo. Deberás:\n",
    "\n",
    "1. Entrenar e implementar tus primeros modelos\n",
    "1. inscribir a tu equipo\n",
    "1. volver a entrenar e implementar tus modelos\n",
    "1. trabajar con el equipo del evento para resolver cualquier problema o inconveniente que tu equipo enfrente"
   ]
  },
  {
   "cell_type": "markdown",
   "metadata": {},
   "source": [
    "## Entrenar e implementar tus primeros modelos\n",
    "ahora que tienes la infraestructura en funcionamiento, debes entrenar e implementar tus modelos. Este repositorio ya tiene un código para implementar un punto final de Distribución y Disparo muy simple. Utilizarás el script `startPipeline` para entrenar e implementar tus modelos. La siguiente celda te muestra cómo usarlo"
   ]
  },
  {
   "cell_type": "code",
   "execution_count": null,
   "metadata": {},
   "outputs": [],
   "source": [
    "!cd ../.. && ./bin/startPipeline.js help"
   ]
  },
  {
   "cell_type": "code",
   "execution_count": null,
   "metadata": {},
   "outputs": [],
   "source": [
    "!cd ../.. && ./bin/startPipeline.js --pipeline shoot"
   ]
  },
  {
   "cell_type": "code",
   "execution_count": null,
   "metadata": {},
   "outputs": [],
   "source": [
    "!cd ../.. && ./bin/startPipeline.js --pipeline layout"
   ]
  },
  {
   "cell_type": "markdown",
   "metadata": {},
   "source": [
    "## Inscribir equipo\n",
    "Una vez que dos puntos finales fueron implementados y están en funcionamiento, puedes inscribir a tu equipo y comenzar a jugar. Ejecuta la siguiente celda para obtener la información necesaria para inscribir a tu equipo; luego ve a la página de inscripción que el equipo del evento te proporcionó e ingresa la información."
   ]
  },
  {
   "cell_type": "code",
   "execution_count": null,
   "metadata": {},
   "outputs": [],
   "source": [
    "!../../bin/register_outputs.sh"
   ]
  },
  {
   "cell_type": "markdown",
   "metadata": {},
   "source": [
    "## vuelve a entrenar e implementar los modelos\n",
    "\n",
    "- Cuando los grupos de Ataque y Defensa tienen cambios, los aplicarán a sus módulos. Fusionar sus módulos en Dev primero para comprobar si hay algún conflicto, luego fusionar en el principal.\n",
    "```shell\n",
    "git checkout shoot  # or layout if it was the layout team\n",
    "git pull # pull in the new changes\n",
    "git checkout dev # move to the development branch\n",
    "git merge shoot # merge in changes from layout branch\n",
    "git checkout master # move to the master branch\n",
    "git merge dev # merge in changes from development branch\n",
    "```\n",
    "\n",
    "- para actualizar tus modelos, puedes iniciar nuevos trabajos de pipeline utilizando el mismo script startPipeline.js que usaste anteriormente\n",
    "```shell\n",
    "./bin/startPipeline.js --pipeline layout # or shoot\n",
    "```"
   ]
  },
  {
   "cell_type": "markdown",
   "metadata": {},
   "source": [
    "## Búsqueda de errores\n",
    "Uno de los recursos que la plantilla cloudformation anterior crea es una Cola SQS que guarda los Errores de los juegos. Debes comprobar esta cola para asegurarte de que todos los puntos finales estén funcionando correctamente. Ve a la [consola SQS](https://console.aws.amazon.com/sqs/home#), selecciona la cola del error, ve a Acciones de cola, selecciona \"ver/borrar mensajes\", y selecciona iniciar consulta. Si hay algún error, entonces tu punto final no está respondiendo con éxito."
   ]
  },
  {
   "cell_type": "code",
   "execution_count": null,
   "metadata": {},
   "outputs": [],
   "source": []
  }
 ],
 "metadata": {
  "kernelspec": {
   "display_name": "Python 3",
   "language": "python",
   "name": "python3"
  },
  "language_info": {
   "codemirror_mode": {
    "name": "ipython",
    "version": 3
   },
   "file_extension": ".py",
   "mimetype": "text/x-python",
   "name": "python",
   "nbconvert_exporter": "python",
   "pygments_lexer": "ipython3",
   "version": "3.7.4"
  }
 },
 "nbformat": 4,
 "nbformat_minor": 2
}
