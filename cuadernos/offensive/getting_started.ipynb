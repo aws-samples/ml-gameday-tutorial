{
 "cells": [
  {
   "cell_type": "markdown",
   "metadata": {},
   "source": [
    "<img src=\"../assets/logos/Logo_shoot.png\" width=500></img>\n",
    "## Introducción\n",
    "Crearás el modelo que elige los puntos en el tablero para disparar. Esta guía te describirá las reglas de tu punto final y el siguiente cuadernillo mostrará los detalles de implementar tu punto final. Este repo comienza con código que implementa un modelo de predicción al azar.\n",
    "\n"
   ]
  },
  {
   "cell_type": "markdown",
   "metadata": {},
   "source": [
    "## Reglas\n",
    "<img src=\"../assets/build/instructions_shoot.png\"></img>\n",
    "\n",
    "### Solicitud\n",
    "- __opponent__: el nombre del equipo contra el que estás jugando\n",
    "- __GameId__: Una GUÍA para este juego de\n",
    "- __board__: el tablero marca tus disparos anteriores\n",
    "    - __0__: no has disparado aquí\n",
    "    - __1__: este es un acierto, disparaste aquí y había un barco\n",
    "    - __2__: este es un yerro, disparaste aquí y no había un barco\n",
    "- __session__: objeto de estado del anterior disparo o punto final de la distribución\n",
    "\n",
    "### Respuesta\n",
    "- __shot__:\n",
    "    - __x__: la posición x de tu disparo\n",
    "    - __y__: la posición y de tu disparo\n",
    "- __session__: un objeto de estado de sesión arbitrario que se pasará hasta el siguiente llamado del punto final del bombardeo"
   ]
  },
  {
   "cell_type": "markdown",
   "metadata": {},
   "source": [
    "## Desarrollo\n",
    "consulta el [Cuadernillo de punto final](../Endpoint_Reference.ipynb) para ver cómo escribir, probar e implementar tu código de modelo"
   ]
  },
  {
   "cell_type": "markdown",
   "metadata": {},
   "source": [
    "## Modelo de aprendizaje profundo\n",
    "A continuación, lee el [cuadernillo CNN](./CNN.ipynb) para ver cómo configurar tu modelo de aprendizaje profundo"
   ]
  },
  {
   "cell_type": "code",
   "execution_count": null,
   "metadata": {},
   "outputs": [],
   "source": []
  }
 ],
 "metadata": {
  "kernelspec": {
   "display_name": "Python 3",
   "language": "python",
   "name": "python3"
  },
  "language_info": {
   "codemirror_mode": {
    "name": "ipython",
    "version": 3
   },
   "file_extension": ".py",
   "mimetype": "text/x-python",
   "name": "python",
   "nbconvert_exporter": "python",
   "pygments_lexer": "ipython3",
   "version": "3.7.4"
  },
  "latex_envs": {
   "LaTeX_envs_menu_present": true,
   "autoclose": false,
   "autocomplete": true,
   "bibliofile": "biblio.bib",
   "cite_by": "apalike",
   "current_citInitial": 1,
   "eqLabelWithNumbers": true,
   "eqNumInitial": 1,
   "hotkeys": {
    "equation": "Ctrl-E",
    "itemize": "Ctrl-I"
   },
   "labels_anchors": false,
   "latex_user_defs": false,
   "report_style_numbering": false,
   "user_envs_cfg": false
  }
 },
 "nbformat": 4,
 "nbformat_minor": 2
}
