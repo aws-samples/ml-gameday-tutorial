{
 "cells": [
  {
   "cell_type": "markdown",
   "metadata": {},
   "source": [
    "<img src=\"../assets/logos/Logo_shoot.png\" width=500></img>\n",
    "# Second Model: Probability\n",
    "Instead of shooting randomly, like the first model, lets make a model who guesses based on past games! This model will first make 10 random shots at the begining of the game. The model will then look at past games who had the same hits/misses as the 10 shots and choose shots based on the location of ships in those games. If no past games match then additional random shots will be taken. "
   ]
  },
  {
   "cell_type": "markdown",
   "metadata": {},
   "source": [
    "## Data\n",
    "We will be using past game date to train out model. First we need to download the data by running: (note the data is constantly being updated as games are played)\n",
    "```bash\n",
    "./bin/download_data.sh\n",
    "```\n",
    "next copy the sample data file into the mock directory of the code for this model\n",
    "```bash\n",
    "cp ./data/data.min.json ./containers/Shoot/Bayes/mock/data/data.json\n",
    "```\n",
    "You will now be able to test your model training localy \n",
    "\n",
    "Next we need to upload the data to s3 so we can train the production model on it. run:\n",
    "```bash\n",
    "./bin/upload_data.sh\n",
    "```"
   ]
  },
  {
   "cell_type": "markdown",
   "metadata": {},
   "source": [
    "## Code\n",
    "1. code is in /containers/shoot\n",
    "1. train.py parses the game data and saves all the layouts\n",
    "1. host.py takes the saved layouts and finds all layouts that match the current game board and chooses a random ship location from the matched layouts\n",
    "1. if no match then randomly shoot"
   ]
  },
  {
   "cell_type": "markdown",
   "metadata": {},
   "source": [
    "## Configure\n",
    "Before you can deploy your second model you need to configure the deployment. As described in the [Endpoint Notebook](../Endpoint_Reference.ipynb), you will edit to the deployment configuration in /deploy-config.json. you need to edit the following field to the following values\n",
    "\n",
    "|parameter field|Value|\n",
    "|---|---|\n",
    "|trainsourcefile|`shoot-Bayes.tar.gz`|\n",
    "|hostsourcefile|`shoot-Bayes.tar.gz`|\n",
    "|channels|{train:{path:\"all/data.json\"}}|"
   ]
  },
  {
   "cell_type": "markdown",
   "metadata": {},
   "source": [
    "## Deploy\n",
    "1. follow instructions from endpoint reference to commit your code and changes and then push your changes to the remote branch\n",
    "2. tell opperations to deploy your changes"
   ]
  },
  {
   "cell_type": "markdown",
   "metadata": {},
   "source": [
    "## Amazon Athena\n",
    "You will use Amazon Athena to monitor the performance of your model. Athena allows you to run SQL queries against data in s3, like the game archive data. You can see a example query by running the following command:"
   ]
  },
  {
   "cell_type": "code",
   "execution_count": 1,
   "metadata": {},
   "outputs": [
    {
     "name": "stdout",
     "output_type": "stream",
     "text": [
      "\u001b[1;39m{\n",
      "  \u001b[0m\u001b[34;1m\"GameDatabase\"\u001b[0m\u001b[1;39m: \u001b[0m\u001b[0;32m\"datacatalog-bnxdo93q77sg\"\u001b[0m\u001b[1;39m,\n",
      "  \u001b[0m\u001b[34;1m\"GameTable\"\u001b[0m\u001b[1;39m: \u001b[0m\u001b[0;32m\"gameday-main-9-gamearchivebucket-ce4fiv1vk6n8\"\u001b[0m\u001b[1;39m\n",
      "\u001b[1;39m}\u001b[0m\n",
      "----example sql Query----\n",
      "\n",
      "SELECT * FROM datacatalog-bnxdo93q77sg.gameday-main-9-gamearchivebucket-ce4fiv1vk6n8 limit 10;\n",
      "\n"
     ]
    }
   ],
   "source": [
    "!../../bin/glue_info.sh"
   ]
  },
  {
   "cell_type": "markdown",
   "metadata": {},
   "source": [
    "1. Go to the [Athena Console](https://console.aws.amazon.com/athena/home?region=us-east-1#query)\n",
    "1. you are going to use the following query but you need to first get some values. You need the name of the Amazon Glue catalog that holds the game data and the s3 bucket where that data is stored. These values are given by the above command. Replace <Game-data-catalog> and <Game-data-bucket> with those values. so for example the line `FROM \"<Game-data-catalog>\".\"<Game-data-bucket>\"` will look something like `FROM \"game-catalog-adafafdad\".\"game-archive-adfasdfasdf\"`\n",
    "1. Next replace the three occurances of <Team-Name> with your team name. For example, the line `WHEN winner = '<Team-Name>' THEN 1.0` becomes `WHEN winner = 'my-team' THEN 1.0`\n",
    "\n",
    "```sql\n",
    "SELECT type,\n",
    "         sum(won)/(sum(won)+sum(lost)) as won,\n",
    "         sum(lost)/(sum(won)+sum(lost)) as lost\n",
    "FROM \n",
    "    (SELECT json_extract(session,'$.type') AS type,\n",
    "        CASE\n",
    "            WHEN winner = '<Team-Name>' THEN 1.0\n",
    "            ELSE 0.0\n",
    "        END AS won,\n",
    "        CASE\n",
    "            WHEN winner != '<Team-Name>' THEN 1.0\n",
    "            ELSE 0.0\n",
    "        END AS lost\n",
    "    FROM \n",
    "        (SELECT teama.session AS session,\n",
    "         teama.teamname AS team,\n",
    "         winner\n",
    "        FROM \"<Game-data-catalog>\".\"<Game-data-bucket>\"\n",
    "        UNION\n",
    "        SELECT teamb.session AS session,\n",
    "         teamb.teamname AS team,\n",
    "         winner\n",
    "        FROM \"<Game-data-catalog>\".\"<Game-data-bucket>\" )\n",
    "        WHERE team = '<Team-Name>' )\n",
    "    GROUP BY  size\n",
    "```"
   ]
  },
  {
   "cell_type": "markdown",
   "metadata": {},
   "source": [
    "## next Model\n",
    "Next, read through [Third Notebook](./Third_Deploy.ipynb) for how to configure your first model"
   ]
  },
  {
   "cell_type": "code",
   "execution_count": null,
   "metadata": {},
   "outputs": [],
   "source": []
  }
 ],
 "metadata": {
  "kernelspec": {
   "display_name": "Python 3",
   "language": "python",
   "name": "python3"
  },
  "language_info": {
   "codemirror_mode": {
    "name": "ipython",
    "version": 3
   },
   "file_extension": ".py",
   "mimetype": "text/x-python",
   "name": "python",
   "nbconvert_exporter": "python",
   "pygments_lexer": "ipython3",
   "version": "3.6.5"
  }
 },
 "nbformat": 4,
 "nbformat_minor": 2
}
