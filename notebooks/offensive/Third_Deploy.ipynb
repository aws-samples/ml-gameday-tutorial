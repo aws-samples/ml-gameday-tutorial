{
 "cells": [
  {
   "cell_type": "markdown",
   "metadata": {},
   "source": [
    "<img src=\"../assets/logos/Logo_shoot.png\" width=500></img>\n",
    "# Third Model: Deep Learning\n",
    "1. problems with the probablity\n",
    "1. strengths of deep learning\n",
    "1. intro to CNNs"
   ]
  },
  {
   "cell_type": "markdown",
   "metadata": {},
   "source": [
    "## Data\n",
    "We will be using past game date to train out model. First we need to download the data by running: (note the data is constantly being updated as games are played)\n",
    "```bash\n",
    "./bin/download_data.sh\n",
    "```\n",
    "next copy the sample data file into the mock directory of the code for this model\n",
    "```bash\n",
    "cp ./data/data.min.json ./containers/Shoot/cnn/mock/data/data.json\n",
    "```\n",
    "You will now be able to test your model training localy \n",
    "\n",
    "Next we need to upload the data to s3 so we can train the production model on it. run:\n",
    "```bash\n",
    "./bin/upload_data.sh\n",
    "```"
   ]
  },
  {
   "cell_type": "markdown",
   "metadata": {},
   "source": [
    "## Code\n",
    "1. code is in /containers/shoot/cnn\n"
   ]
  },
  {
   "cell_type": "markdown",
   "metadata": {},
   "source": [
    "## Configure\n",
    "Before you can deploy your second model you need to configure the deployment. As described in the [Endpoint Notebook](../Endpoint_Reference.ipynb), you will edit to the deployment configuration in /template/main/sagebuild/shoot.js. you need to edit the following field to the following values\n",
    "\n",
    "|parameter field|Value|description|\n",
    "|---|---|\n",
    "|trainsourcefile|`s3://${AssetBucket}/${AssetPrefix}/shoot-cnn.tar.gz`|\n",
    "|hostsourcefile|`s3://${AssetBucket}/${AssetPrefix}/shoot-cnn.tar.gz`|\n",
    "|hyperparameters.epochs|200|\n",
    "|hyperparameters.learning_rate|0.005|\n",
    "|hyperparameters.width|32|\n",
    "|hyperparameters.depth|8|\n",
    "|hyperparameters.patience|10|\n",
    "|hyperparameters.batch_size|1024|\n",
    "|metrics|[{Name:\"Validation\",Regex:\"Testing loss: (.*?);\"},{Name:\"Training\",Regex:\"Training loss: (.*?);\"},{Name:\"Throughput\",Regex:\"Throughput=(.*?);\"}]|\n",
    "|traininstancetype|ml.p3.2xlarge|"
   ]
  },
  {
   "cell_type": "markdown",
   "metadata": {},
   "source": [
    "## Deploy\n",
    "1. follow instructions from endpoint reference to commit your code and changes and then push your changes to the remote branch\n",
    "2. tell opperations to deploy your changes"
   ]
  },
  {
   "cell_type": "markdown",
   "metadata": {},
   "source": [
    "## Athena\n",
    "1. Go to the [Athena Console](https://console.aws.amazon.com/athena/home?region=us-east-1#query)\n",
    "1. you are going to use the following query but you need to first get some values. You need the name of the Amazon Glue catalog that holds the game data and the s3 bucket where that data is stored. You can get these values from the opperations teams. Replace <Game-data-catalog> and <Game-data-bucket> with those values. so for example the line `FROM \"<Game-data-catalog>\".\"<Game-data-bucket>\"` will look something like `FROM \"game-catalog-adafafdad\".\"game-archive-adfasdfasdf\"`\n",
    "1. Next replace the three occurances of <Team-Name> with your team name. For example, the line `WHEN winner = '<Team-Name>' THEN 1.0` becomes `WHEN winner = 'my-team' THEN 1.0`\n",
    "\n",
    "```sql\n",
    "SELECT type,\n",
    "         sum(won)/(sum(won)+sum(lost)) as won,\n",
    "         sum(lost)/(sum(won)+sum(lost)) as lost\n",
    "FROM \n",
    "    (SELECT json_extract(session,'$.type') AS type,\n",
    "        CASE\n",
    "            WHEN winner = '<Team-Name>' THEN 1.0\n",
    "            ELSE 0.0\n",
    "        END AS won,\n",
    "        CASE\n",
    "            WHEN winner != '<Team-Name>' THEN 1.0\n",
    "            ELSE 0.0\n",
    "        END AS lost\n",
    "    FROM \n",
    "        (SELECT teama.session AS session,\n",
    "         teama.teamname AS team,\n",
    "         winner\n",
    "        FROM \"<Game-data-catalog>\".\"<Game-data-bucket>\"\n",
    "        UNION\n",
    "        SELECT teamb.session AS session,\n",
    "         teamb.teamname AS team,\n",
    "         winner\n",
    "        FROM \"<Game-data-catalog>\".\"<Game-data-bucket>\" )\n",
    "        WHERE team = '<Team-Name>' )\n",
    "    GROUP BY  size\n",
    "```"
   ]
  },
  {
   "cell_type": "markdown",
   "metadata": {},
   "source": [
    "## Next Steps\n",
    "try editing hyperparamters to get better results"
   ]
  },
  {
   "cell_type": "code",
   "execution_count": null,
   "metadata": {},
   "outputs": [],
   "source": []
  }
 ],
 "metadata": {
  "kernelspec": {
   "display_name": "Python 3",
   "language": "python",
   "name": "conda_python3"
  },
  "language_info": {
   "codemirror_mode": {
    "name": "ipython",
    "version": 3
   },
   "file_extension": ".py",
   "mimetype": "text/x-python",
   "name": "python",
   "nbconvert_exporter": "python",
   "pygments_lexer": "ipython3",
   "version": "3.6.5"
  }
 },
 "nbformat": 4,
 "nbformat_minor": 2
}
