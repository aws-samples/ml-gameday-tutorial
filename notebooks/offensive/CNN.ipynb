{
 "cells": [
  {
   "cell_type": "markdown",
   "metadata": {},
   "source": [
    "<img src=\"../assets/logos/Logo_shoot.png\" width=500></img>\n",
    "# Deep Learning\n",
    "Your first model took random shots and your second model tried matching the current game against past games; however, if no past games matched then it just randomly guessed. This model will do better by __learning__ the pattern of ship layouts, not just memorizing them. "
   ]
  },
  {
   "cell_type": "markdown",
   "metadata": {},
   "source": [
    "## Data\n",
    "We will be using past game date to train out model. First we need to download the data from the master game archive by running: (note the data is constantly being updated as games are played)\n",
    "```bash\n",
    "./bin/download_data.sha # Download, parse data, create sample data\n",
    "```\n",
    "next copy the sample data file into the mock directory of the code for this model\n",
    "```bash\n",
    "cp ./data/data.min.json ./containers/Shoot/cnn/mock/data/data.json\n",
    "```\n",
    "You will now be able to test your model training localy \n",
    "\n",
    "Next we need to upload the data to our s3 bucket so we can train the production model on it. run:\n",
    "```bash\n",
    "./bin/upload_data.sh\n",
    "```"
   ]
  },
  {
   "cell_type": "markdown",
   "metadata": {},
   "source": [
    "## Code\n",
    "The code is in /containers/shoot/cnn. See [Endpoint](../Endpoint_Reference.ipynb) for details on each file.  In addition to running our model it will also put a tag in the session attribute that we will use in athena to compare different models. You can change the tag value (which you should do for each model) by editing the host.py file. Next, run the test script localy to confirm the scripts works.\n"
   ]
  },
  {
   "cell_type": "markdown",
   "metadata": {},
   "source": [
    "## Configure\n",
    "Before you can deploy your second model you need to configure the deployment. As described in the [Endpoint Notebook](../Endpoint_Reference.ipynb), you will edit to the deployment configuration in /shoot-config.js. you need to edit the following field to the following values\n",
    "\n",
    "|parameter field|Value|description|\n",
    "|---|---|---|\n",
    "|trainsourcefile|`shoot-CNN.tar.gz`| code for our model|\n",
    "|hostsourcefile|`shoot-CNN.tar.gz`|a code for our model|\n",
    "|hyperparameters.epochs|10|Max epochs to train for|\n",
    "|hyperparameters.warm_up|5|How many epochs to wait to start early stoppping|\n",
    "|hyperparameters.patience|5|How many epochs with no improvement before early stopping|\n",
    "|hyperparameters.learning_rate|0.005||\n",
    "|hyperparameters.width|32|How many feature filters in each layer|\n",
    "|hyperparameters.depth|8|how many layers|\n",
    "|hyperparameters.batch_size|1024|batch size for training|\n",
    "|metrics|[{Name:\"Validation\",Regex:\"Testing loss: (.*?);\"},{Name:\"Training\",Regex:\"Training loss: (.*?);\"},{Name:\"Throughput\",Regex:\"Throughput=(.*?);\"}]|Metrics to send to cloudwatch logs|\n",
    "|traininstancetype|\"ml.p3.2xlarge\"|instance type to train with|\n",
    "|channels|{\"train\":{\"path\":\"all/data.json\"}}|path to data in data bucket|"
   ]
  },
  {
   "cell_type": "markdown",
   "metadata": {},
   "source": [
    "## Deploy\n",
    "1. follow instructions from endpoint reference to commit your code and then push your changes to the remote branch.\n",
    "2. tell opperations to deploy your changes\n",
    "3. Monitor you models performance. see [Athena](../Athena.ipynb)"
   ]
  },
  {
   "cell_type": "markdown",
   "metadata": {},
   "source": [
    "## Next Steps\n",
    "try editing hyperparamters or the code to get better results"
   ]
  },
  {
   "cell_type": "code",
   "execution_count": null,
   "metadata": {},
   "outputs": [],
   "source": []
  }
 ],
 "metadata": {
  "kernelspec": {
   "display_name": "Python 3",
   "language": "python",
   "name": "python3"
  },
  "language_info": {
   "codemirror_mode": {
    "name": "ipython",
    "version": 3
   },
   "file_extension": ".py",
   "mimetype": "text/x-python",
   "name": "python",
   "nbconvert_exporter": "python",
   "pygments_lexer": "ipython3",
   "version": "3.6.5"
  }
 },
 "nbformat": 4,
 "nbformat_minor": 2
}
