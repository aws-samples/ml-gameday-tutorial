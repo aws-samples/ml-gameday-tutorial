{
 "cells": [
  {
   "cell_type": "markdown",
   "metadata": {},
   "source": [
    "<img src=\"../assets/logos/Logo_shoot.png\" width=500></img>\n",
    "## Intro\n",
    "You will be creating the model the chooses points on the gameboard to shoot at. This guide will walk you through the rules of your endpoint and the following notebook will show the details of implementing your endpoint. This repo starts off with code that implements a random guessing model.\n",
    "\n"
   ]
  },
  {
   "cell_type": "markdown",
   "metadata": {},
   "source": [
    "## Rules\n",
    "<img src=\"../assets/build/instructions_shoot.png\"></img>\n",
    "\n",
    "### Request\n",
    "- __opponent__: the name of the team you a playing against\n",
    "- __GameId__: A GUID for this specific game\n",
    "- __board__: the board of marks of your previous shots\n",
    "    - __0__: you have not shot here\n",
    "    - __1__: this is a hit, you shot here and there was a ship\n",
    "    - __2__: this is a miss, you shot here and there was no ship\n",
    "- __session__: state object from previous shot or layout endpoint\n",
    "\n",
    "### Response\n",
    "- __shot__:\n",
    "    - __x__: the x position of your shot\n",
    "    - __y__: the y position of your shot\n",
    "- __session__: an arbitrary session state object to be passed along to the next shoot endpoint call"
   ]
  },
  {
   "cell_type": "markdown",
   "metadata": {},
   "source": [
    "## Development\n",
    "see [Endpoint Notebook](../Endpoint_Reference.ipynb) for how to write, test, and deploy your model code"
   ]
  },
  {
   "cell_type": "markdown",
   "metadata": {},
   "source": [
    "## Deep Learning Model\n",
    "Next, read through [Second Notebook](./Third_Deploy.ipynb) for how to configure your deep learning model"
   ]
  },
  {
   "cell_type": "code",
   "execution_count": null,
   "metadata": {},
   "outputs": [],
   "source": []
  }
 ],
 "metadata": {
  "kernelspec": {
   "display_name": "Python 3",
   "language": "python",
   "name": "python3"
  },
  "language_info": {
   "codemirror_mode": {
    "name": "ipython",
    "version": 3
   },
   "file_extension": ".py",
   "mimetype": "text/x-python",
   "name": "python",
   "nbconvert_exporter": "python",
   "pygments_lexer": "ipython3",
   "version": "3.6.5"
  }
 },
 "nbformat": 4,
 "nbformat_minor": 2
}
