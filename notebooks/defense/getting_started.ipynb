{
 "cells": [
  {
   "cell_type": "markdown",
   "metadata": {},
   "source": [
    "<img src=\"../assets/logos/Logo_layout.png\" width=500></img>\n"
   ]
  },
  {
   "cell_type": "markdown",
   "metadata": {},
   "source": [
    "## Introductions\n",
    "You will be creating a model that creates the layout of ships at the begining of each game. The following will describe the rules of your endpoint and the following notebook will show the details of implementing your endpoint. This repo has code implementing three types of models; a random layout with ships of size 2, layout that chooses ships of size 2 or 3, and a model that places ships away from the initial shots of other teams. \n",
    "\n",
    "## Rules\n",
    "<img src=\"../assets/build/instructions_layout.png\"></img>\n",
    "\n",
    "### Request\n",
    "- __opponent__: The name of the team you are playing against for this game\n",
    "- __width & height__:the width and height of the game board. will not change during a gameday\n",
    "- __rule set__:\n",
    "    - __ship cells__: how many cells on the board that must be marked as ships\n",
    "    - __connectedShipCells__: The minimum number of times two ship cells must be adjacent to each other, left/right or top bottom (not diaganol) \n",
    "\n",
    "### Response\n",
    "- __Layout__:an array of arrays marking how you layed out your ships\n",
    "    - __empty cell=0__: there is no ship here\n",
    "    - __ship cell=1__: there is a ship here\n",
    "- __session__: an arbitrary session state object to be passed along to the shooting endpoint\n",
    "\n",
    "### Examples\n",
    "\n",
    "<img src=\"../assets/build/instructions_layout_examples.png\"></img>\n",
    "\n"
   ]
  },
  {
   "cell_type": "markdown",
   "metadata": {},
   "source": [
    "## Development\n",
    "see [Endpoint Notebook](../Endpoint_Reference.ipynb) for the overview of how to write, test, and deploy your model code"
   ]
  },
  {
   "cell_type": "markdown",
   "metadata": {},
   "source": [
    "## First Model\n",
    "Your first model was deployed by the operations team before they registered your team. Next, see [Second Deploy](./Second_Deploy.ipynb) for how to configure your second model"
   ]
  },
  {
   "cell_type": "code",
   "execution_count": null,
   "metadata": {},
   "outputs": [],
   "source": []
  }
 ],
 "metadata": {
  "kernelspec": {
   "display_name": "Python 3",
   "language": "python",
   "name": "conda_python3"
  },
  "language_info": {
   "codemirror_mode": {
    "name": "ipython",
    "version": 3
   },
   "file_extension": ".py",
   "mimetype": "text/x-python",
   "name": "python",
   "nbconvert_exporter": "python",
   "pygments_lexer": "ipython3",
   "version": "3.6.5"
  }
 },
 "nbformat": 4,
 "nbformat_minor": 2
}
