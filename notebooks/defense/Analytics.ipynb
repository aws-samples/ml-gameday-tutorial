{
 "cells": [
  {
   "cell_type": "markdown",
   "metadata": {},
   "source": [
    "<img src=\"../assets/logos/Logo_layout.png\" width=500></img>\n"
   ]
  },
  {
   "cell_type": "markdown",
   "metadata": {},
   "source": [
    "# Analytics\n",
    "Your first model just randomly places ships of size 2. Since you can make ships of many different shapes we would like to find what is the best shape. You also need to change the shape of your ships since other teams shooting models will learn the patterns of your layout. In this model, each game your model will choose one of two different layout strategies and you will then use [Amazon Athena](https://aws.amazon.com/athena/) to see the results. You can then repeate the experiment with new ship sizes and shapes to see if you can find better strategies. "
   ]
  },
  {
   "cell_type": "markdown",
   "metadata": {},
   "source": [
    "## Code \n",
    "The code for your second model is in /containers/2vs3. See [Endpoint](../Endpoint_Reference.ipynb) for details on each file. In addition to randomly selecting a layout strategy it will also put a tag in the session attribute that we will use in athena to compare different games. You can change the tag value (which you should do for each model) by editing the host.py file. Next, run the test script localy to confirm the scripts works. "
   ]
  },
  {
   "cell_type": "markdown",
   "metadata": {},
   "source": [
    "## Configure\n",
    "Before you can deploy your second model you need to configure the deployment. As described in the [Endpoint Notebook](../Endpoint_Reference.ipynb), you will edit to the deployment configuration in [/layout-config.json](/edit/GameDayRepo/layout-config.json). you need to edit the following field to the following values\n",
    "\n",
    "|parameter field|Value|\n",
    "|---|---|\n",
    "|trainsourcefile|`layout-2vs3.tar.gz`|\n",
    "|hostsourcefile|`layout-2vs3.tar.gz`|\n",
    "\n"
   ]
  },
  {
   "cell_type": "markdown",
   "metadata": {},
   "source": [
    "## Deploy\n",
    "1. follow instructions from endpoint reference to commit your code and changes and then push your changes to the remote branch\n",
    "2. tell opperations to deploy your changes"
   ]
  },
  {
   "cell_type": "markdown",
   "metadata": {},
   "source": [
    "## Next Steps\n",
    "1. program some new ship sizes or shapes to do another round of experiments with\n",
    "2. deploy it out and rerun your athena query"
   ]
  },
  {
   "cell_type": "code",
   "execution_count": null,
   "metadata": {},
   "outputs": [],
   "source": []
  }
 ],
 "metadata": {
  "kernelspec": {
   "display_name": "Python 3",
   "language": "python",
   "name": "python3"
  },
  "language_info": {
   "codemirror_mode": {
    "name": "ipython",
    "version": 3
   },
   "file_extension": ".py",
   "mimetype": "text/x-python",
   "name": "python",
   "nbconvert_exporter": "python",
   "pygments_lexer": "ipython3",
   "version": "3.6.5"
  }
 },
 "nbformat": 4,
 "nbformat_minor": 2
}
