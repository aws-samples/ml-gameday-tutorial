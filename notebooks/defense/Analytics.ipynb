{
 "cells": [
  {
   "cell_type": "markdown",
   "metadata": {},
   "source": [
    "<img src=\"../assets/logos/Logo_layout.png\" width=500></img>\n"
   ]
  },
  {
   "cell_type": "markdown",
   "metadata": {},
   "source": [
    "# Second Deploy: Analytics\n",
    "Your first model just randomly places ships of size 2. Since you can make ships of many different shapes we would like to find what is the best shape. You also need to change the shape of your ships since other teams shooting models will learn the patterns of your layout. In this model, each game your model will choose one of two different layout strategies and you will then use [Amazon Athena](https://aws.amazon.com/athena/) to see the results. You can then repeate the experiment with new ship sizes and shapes to see if you can find better strategies. "
   ]
  },
  {
   "cell_type": "markdown",
   "metadata": {},
   "source": [
    "## Code \n",
    "The code for your second model is in /containers/2vs3. In addition to randomly selecting a layout strategy it will also put a tag in the session attribute that we will use in athena to compare different games. Next, run the test script localy to confirm the scripts works. "
   ]
  },
  {
   "cell_type": "markdown",
   "metadata": {},
   "source": [
    "## Configure\n",
    "Before you can deploy your second model you need to configure the deployment. As described in the [Endpoint Notebook](../Endpoint_Reference.ipynb), you will edit to the deployment configuration in [/deploy-config.json](/edit/GameDayRepo/deploy-config.json). you need to edit the following field to the following values\n",
    "\n",
    "|parameter field|Value|\n",
    "|---|---|\n",
    "|trainsourcefile|`layout-2vs3.tar.gz`|\n",
    "|hostsourcefile|`layout-2vs3.tar.gz`|\n",
    "\n"
   ]
  },
  {
   "cell_type": "markdown",
   "metadata": {},
   "source": [
    "## Deploy\n",
    "1. follow instructions from endpoint reference to commit your code and changes and then push your changes to the remote branch\n",
    "2. tell opperations to deploy your changes"
   ]
  },
  {
   "cell_type": "markdown",
   "metadata": {},
   "source": [
    "## Amazon Athena\n",
    "You will use Amazon Athena to monitor the performance of your model. Athena allows you to run SQL queries against data in s3, like the game archive data. You can see a example query by running the following command:"
   ]
  },
  {
   "cell_type": "code",
   "execution_count": null,
   "metadata": {},
   "outputs": [],
   "source": [
    "!../../bin/glue_info.sh"
   ]
  },
  {
   "cell_type": "markdown",
   "metadata": {},
   "source": [
    "1. Go to the [Athena Console](https://console.aws.amazon.com/athena/home?region=us-east-1#query)\n",
    "1. you are going to use the following query but you need to first get some values. You need the name of the Amazon Glue catalog that holds the game data and the s3 bucket where that data is stored. These values are given by the above command. Replace <Game-data-catalog> and <Game-data-bucket> with those values. so for example the line `FROM \"<Game-data-catalog>\".\"<Game-data-bucket>\"` will look something like `FROM \"game-catalog-adafafdad\".\"game-archive-adfasdfasdf\"`\n",
    "1. Next replace the three occurances of <Team-Name> with your team name. For example, the line `WHEN winner = '<Team-Name>' THEN 1.0` becomes `WHEN winner = 'my-team' THEN 1.0`\n",
    "\n",
    "```sql\n",
    "SELECT type,\n",
    "         sum(won)/(sum(won)+sum(lost)) as won,\n",
    "         sum(lost)/(sum(won)+sum(lost)) as lost\n",
    "FROM \n",
    "    (SELECT json_extract(session,'$.type') AS type,\n",
    "        CASE\n",
    "            WHEN winner = '<Team-Name>' THEN 1.0\n",
    "            ELSE 0.0\n",
    "        END AS won,\n",
    "        CASE\n",
    "            WHEN winner != '<Team-Name>' THEN 1.0\n",
    "            ELSE 0.0\n",
    "        END AS lost\n",
    "    FROM \n",
    "        (SELECT teama.session AS session,\n",
    "         teama.teamname AS team,\n",
    "         winner\n",
    "        FROM \"<Game-data-catalog>\".\"<Game-data-bucket>\"\n",
    "        UNION\n",
    "        SELECT teamb.session AS session,\n",
    "         teamb.teamname AS team,\n",
    "         winner\n",
    "        FROM \"<Game-data-catalog>\".\"<Game-data-bucket>\" )\n",
    "        WHERE team = '<Team-Name>' )\n",
    "    GROUP BY  type\n",
    "```"
   ]
  },
  {
   "cell_type": "markdown",
   "metadata": {},
   "source": [
    "## Try again\n",
    "1. program some new ship sizes or shapes to do another round of experiments with\n",
    "2. deploy it out and rerun your athena query"
   ]
  },
  {
   "cell_type": "markdown",
   "metadata": {},
   "source": [
    "## Next Step\n",
    "1. go to [third deploy](./Third_Deploy.ipynb) to try the next strategy"
   ]
  },
  {
   "cell_type": "code",
   "execution_count": null,
   "metadata": {},
   "outputs": [],
   "source": []
  }
 ],
 "metadata": {
  "kernelspec": {
   "display_name": "Python 3",
   "language": "python",
   "name": "python3"
  },
  "language_info": {
   "codemirror_mode": {
    "name": "ipython",
    "version": 3
   },
   "file_extension": ".py",
   "mimetype": "text/x-python",
   "name": "python",
   "nbconvert_exporter": "python",
   "pygments_lexer": "ipython3",
   "version": "3.6.5"
  }
 },
 "nbformat": 4,
 "nbformat_minor": 2
}
