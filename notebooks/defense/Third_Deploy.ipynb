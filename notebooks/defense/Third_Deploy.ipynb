{
 "cells": [
  {
   "cell_type": "markdown",
   "metadata": {},
   "source": [
    "<img src=\"../assets/logos/Logo_layout.png\" width=500></img>\n"
   ]
  },
  {
   "cell_type": "markdown",
   "metadata": {},
   "source": [
    "# Third Deploy: Avoidance\n",
    "In our first model we just randomly placed ships of size 2. The problem with that strategy is that the pattern is easily learned by shooting models. In your Second model you learned how to experiment with different ship shapes placed randomly. Neither of those two models take into account the shooting patterns of the other teams. In this model you will use history of other teams initial shots to place your ships in away that avoids those shots. "
   ]
  },
  {
   "cell_type": "markdown",
   "metadata": {},
   "source": [
    "## Data\n",
    "We will be using past game date to train out model. First we need to download the data by running: (note the data is constantly being updated as games are played)\n",
    "```bash\n",
    "./bin/download_data.sh\n",
    "```\n",
    "next copy the sample data file into the mock directory of the code for this model\n",
    "```bash\n",
    "mkdir -p ./containers/Layout/avoidance/mock/data\n",
    "cp ./data/data.min.json ./containers/Layout/avoidance/mock/data/data.json\n",
    "```\n",
    "You will now be able to test your model training localy \n",
    "\n",
    "Next we need to upload the data to s3 so we can train the production model on it. run:\n",
    "```bash\n",
    "./bin/upload_data.sh\n",
    "```"
   ]
  },
  {
   "cell_type": "markdown",
   "metadata": {},
   "source": [
    "## Code \n",
    "The code for your second model is in /containers/avoidance. Train.py will parse the game data and extract the layouts. It will then create a matrix whose values are the number of times a team shot in that square in the first 10 shots. This matrix will be saved and passed on to host.py which reads it and will then randomly place ships inversly weighted to the values in the matrix"
   ]
  },
  {
   "cell_type": "markdown",
   "metadata": {},
   "source": [
    "## Configure\n",
    "Before you can deploy your second model you need to configure the deployment. As described in the [Endpoint Notebook](../Endpoint_Reference.ipynb), you will edit to the deployment configuration in /template/main/sagebuild/layout.js. you need to edit the following field to the following values. You will set two hyperparameters, one will be your team name (so you dont waste time learning your own teams shooting patterns) and one that sets how many initial shots to track\n",
    "\n",
    "|parameter field|Value|\n",
    "|---|---|\n",
    "|trainsourcefile|`s3://${AssetBucket}/${AssetPrefix}/layout-avoidance.tar.gz`|\n",
    "|hostsourcefile|`s3://${AssetBucket}/${AssetPrefix}/layout-avoidance.tar.gz`|\n",
    "|hyperparameters.team|your team name|\n",
    "|hyperparameters.shots|\"10\"|\n",
    "|channels.train|{path:\"all/data.json\"}|\n",
    "\n"
   ]
  },
  {
   "cell_type": "markdown",
   "metadata": {},
   "source": [
    "## Deploy\n",
    "1. follow instructions from endpoint reference to commit your code and changes and then push your changes to the remote branch\n",
    "2. tell opperations to deploy your changes"
   ]
  },
  {
   "cell_type": "markdown",
   "metadata": {},
   "source": [
    "## Next Step\n",
    "Try mixing the strategies in models 2 and 3, try different ships shapes AND using past data to avoide initial shots"
   ]
  },
  {
   "cell_type": "code",
   "execution_count": null,
   "metadata": {},
   "outputs": [],
   "source": []
  }
 ],
 "metadata": {
  "kernelspec": {
   "display_name": "conda_python3",
   "language": "python",
   "name": "conda_python3"
  },
  "language_info": {
   "codemirror_mode": {
    "name": "ipython",
    "version": 3
   },
   "file_extension": ".py",
   "mimetype": "text/x-python",
   "name": "python",
   "nbconvert_exporter": "python",
   "pygments_lexer": "ipython3",
   "version": "3.6.5"
  }
 },
 "nbformat": 4,
 "nbformat_minor": 2
}
