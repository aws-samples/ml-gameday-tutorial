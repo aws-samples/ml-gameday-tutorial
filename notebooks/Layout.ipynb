{
 "cells": [
  {
   "cell_type": "markdown",
   "metadata": {},
   "source": [
    "<img src=\"logos/Logo_layout.png\" width=500></img>\n"
   ]
  },
  {
   "cell_type": "markdown",
   "metadata": {},
   "source": [
    "## Introductions\n",
    "You will be creating a model that creates the layout of ships at the begining of each game. The following will describe the rules of your endpoint and the following notebook will show the details of implementing your endpoint. This repo has code implementing a basic layout endpoint, it will choose 5 random points and then place another ship to the right of each of those 5 points. \n",
    "\n",
    "## Rules\n",
    "<img src=\"diagrams/instructions_layout.png\"></img>\n",
    "\n",
    "### Request\n",
    "- __opponent__: The name of the team you are playing against for this game\n",
    "- __width & height__:the width and height of the game board. will not change during a gameday\n",
    "- __rule set__:\n",
    "    - __ship cells__: how many cells on the board that must be marked as ships\n",
    "    - __connectedShipCells__: The minimum number of times two ship cells must be adjacent to each other, left/right or top bottom (not diaganol) \n",
    "\n",
    "### Response\n",
    "- __Layout__:an array of arrays marking how you layed out your ships\n",
    "    - __empty cell=0__: there is no ship here\n",
    "    - __ship cell=1__: there is a ship here\n",
    "- __session__: an arbitrary session state object to be passed along to the shooting endpoint\n",
    "\n",
    "### Examples\n",
    "\n",
    "<img src=\"diagrams/instructions_layout_examples.png\"></img>\n",
    "\n"
   ]
  },
  {
   "cell_type": "markdown",
   "metadata": {},
   "source": [
    "## Development\n",
    "see [Endpoint Notebook](/notebooks/Layout.ipynb) for how to write, test, and deploy your model code"
   ]
  },
  {
   "cell_type": "code",
   "execution_count": null,
   "metadata": {},
   "outputs": [],
   "source": []
  }
 ],
 "metadata": {
  "kernelspec": {
   "display_name": "Python 3",
   "language": "python",
   "name": "python3"
  },
  "language_info": {
   "codemirror_mode": {
    "name": "ipython",
    "version": 3
   },
   "file_extension": ".py",
   "mimetype": "text/x-python",
   "name": "python",
   "nbconvert_exporter": "python",
   "pygments_lexer": "ipython3",
   "version": "3.6.5"
  }
 },
 "nbformat": 4,
 "nbformat_minor": 2
}
