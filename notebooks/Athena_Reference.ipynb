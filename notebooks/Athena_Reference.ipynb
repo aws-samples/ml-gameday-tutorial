{
 "cells": [
  {
   "cell_type": "markdown",
   "metadata": {},
   "source": [
    "# Game Analytics with Athena\n",
    "1. go to athena console\n",
    "2. copy and paste queries\n",
    "2. replace values between and including <> for example:\n",
    "    <Team-Name> should be replaced with my-awesome-team-name-that-i-registered-with\n"
   ]
  },
  {
   "cell_type": "markdown",
   "metadata": {},
   "source": [
    "## win/loss percentage grouped by session attribute\n",
    "1. note union clause\n",
    "2. json_extract to parse save session and get field\n",
    "3. group on that field and cound wins and losses for your team\n",
    "\n",
    "```sql\n",
    "SELECT size,\n",
    "         sum(won)/(sum(won)+sum(lost)) as won,\n",
    "         sum(lost)/(sum(won)+sum(lost)) as lost\n",
    "FROM \n",
    "    (SELECT json_extract(session,'$.size') AS size,\n",
    "        CASE\n",
    "            WHEN winner = '<Team-Name>' THEN 1.0\n",
    "            ELSE 0.0\n",
    "        END AS won,\n",
    "        CASE\n",
    "            WHEN winner != '<Team-Name>' THEN 1.0\n",
    "            ELSE 0.0\n",
    "        END AS lost\n",
    "    FROM \n",
    "        (SELECT teama.session AS session,\n",
    "         teama.teamname AS team,\n",
    "         winner\n",
    "        FROM \"<Game-data-catalog>\".\"<Game-data-bucket>\"\n",
    "        UNION\n",
    "        SELECT teamb.session AS session,\n",
    "         teamb.teamname AS team,\n",
    "         winner\n",
    "        FROM \"<Game-data-catalog>\".\"<Game-data-bucket>\" )\n",
    "        WHERE team = 'jmc-test' )\n",
    "    GROUP BY  size\n",
    "```"
   ]
  },
  {
   "cell_type": "code",
   "execution_count": null,
   "metadata": {},
   "outputs": [],
   "source": []
  }
 ],
 "metadata": {
  "kernelspec": {
   "display_name": "Python 3",
   "language": "python",
   "name": "python3"
  },
  "language_info": {
   "codemirror_mode": {
    "name": "ipython",
    "version": 3
   },
   "file_extension": ".py",
   "mimetype": "text/x-python",
   "name": "python",
   "nbconvert_exporter": "python",
   "pygments_lexer": "ipython3",
   "version": "3.6.5"
  }
 },
 "nbformat": 4,
 "nbformat_minor": 2
}
