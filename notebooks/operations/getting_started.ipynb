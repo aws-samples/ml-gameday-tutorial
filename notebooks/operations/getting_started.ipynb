{
 "cells": [
  {
   "cell_type": "markdown",
   "metadata": {},
   "source": [
    "<img src=\"../assets/logos/Logo_operations.png\" width=500></img>\n"
   ]
  },
  {
   "cell_type": "markdown",
   "metadata": {},
   "source": [
    "## Welcome!\n",
    "Welcome to the operations group! you are responsible for deploy the code and models for your team and this guide will walk you through how to do you job. You will:\n",
    "\n",
    "1. Train and deploy your first models\n",
    "1. register your team\n",
    "1. retrain and redeploy models\n",
    "1. work with the event team to resolve any problems/issues your team faces"
   ]
  },
  {
   "cell_type": "markdown",
   "metadata": {},
   "source": [
    "## Train and Deploy Initial Models\n",
    "\n",
    "now that you have the infrastructure up you need to train and deploy your models. This repository already has code to deploy very simple Layout and Shoot endpoint. You will use the  `startPipeline` script to train and deploy your models. The following cell shows you how to use it"
   ]
  },
  {
   "cell_type": "code",
   "execution_count": null,
   "metadata": {},
   "outputs": [],
   "source": [
    "!cd ../.. && ./bin/startPipeline.js help"
   ]
  },
  {
   "cell_type": "code",
   "execution_count": null,
   "metadata": {},
   "outputs": [],
   "source": [
    "!cd ../.. && ./bin/startPipeline.js --pipeline shoot"
   ]
  },
  {
   "cell_type": "code",
   "execution_count": null,
   "metadata": {},
   "outputs": [],
   "source": [
    "!cd ../.. && ./bin/startPipeline.js --pipeline layout"
   ]
  },
  {
   "cell_type": "markdown",
   "metadata": {},
   "source": [
    "## Register Team\n",
    "Once your two endpoints are deployed and up you can register your team and start playing. Run the following cell to get the information needed to register your team; then, go to the registration page given to you by the event team and enter the information."
   ]
  },
  {
   "cell_type": "code",
   "execution_count": null,
   "metadata": {},
   "outputs": [],
   "source": [
    "!../../bin/register_outputs.sh"
   ]
  },
  {
   "cell_type": "markdown",
   "metadata": {},
   "source": [
    "## retrain and redeploy models\n",
    "\n",
    "- When the Offensive and Defensive groups have changes they will commit them to their branches. Merge their branches into Dev first to check for any conflicts, then merge into master. \n",
    "```shell\n",
    "git checkout shoot  # or layout if it was the layout team\n",
    "git pull # pull in the new changes\n",
    "git checkout dev # move to the development branch\n",
    "git merge shoot # merge in changes from layout branch\n",
    "git checkout master # move to the master branch\n",
    "git merge dev # merge in changes from development branch\n",
    "```\n",
    "\n",
    "- to update your models you can kick off new pipeline jobs using the same startPipeline.js script you used earlier\n",
    "```shell\n",
    "./bin/startPipeline.js --pipeline layout # or shoot\n",
    "```"
   ]
  },
  {
   "cell_type": "markdown",
   "metadata": {},
   "source": [
    "## Checking for Errors\n",
    "One of the resources that the earlier AWS CloudFormation template creates is an SQS Queue that holds Errors from the games. You should check this queue to make sure all the endpoints are working correctly. Go to the [SQS console](https://console.aws.amazon.com/sqs/home#), select the error queue, go to Queue actions, select \"view/Delete messages\", and select start polling. if there are any errors then your endpoint is not successfully responding. "
   ]
  },
  {
   "cell_type": "code",
   "execution_count": null,
   "metadata": {},
   "outputs": [],
   "source": []
  }
 ],
 "metadata": {
  "kernelspec": {
   "display_name": "Python 3",
   "language": "python",
   "name": "python3"
  },
  "language_info": {
   "codemirror_mode": {
    "name": "ipython",
    "version": 3
   },
   "file_extension": ".py",
   "mimetype": "text/x-python",
   "name": "python",
   "nbconvert_exporter": "python",
   "pygments_lexer": "ipython3",
   "version": "3.6.5"
  }
 },
 "nbformat": 4,
 "nbformat_minor": 2
}
