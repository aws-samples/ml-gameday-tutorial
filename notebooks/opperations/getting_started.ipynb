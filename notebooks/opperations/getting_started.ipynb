{
 "cells": [
  {
   "cell_type": "markdown",
   "metadata": {},
   "source": [
    "<img src=\"../assets/logos/Logo_operations.png\" width=500></img>\n"
   ]
  },
  {
   "cell_type": "markdown",
   "metadata": {},
   "source": [
    "## Welcome!\n",
    "Welcome to the opperations group! you are responsible for deploy the code and models for your team and this guide will walk you through how to do you job. You will:\n",
    "\n",
    "1. launch asset bucket\n",
    "1. launch resources\n",
    "1. Train and deploy models\n",
    "1. register your team\n",
    "1. retrain and redeploy models\n",
    "1. clean up resources when the game is done"
   ]
  },
  {
   "cell_type": "markdown",
   "metadata": {},
   "source": [
    "## Train and Deploy Initial Models\n",
    "\n",
    "now that you have the infastructure up you need to train and deploy your models. This repository already has code to deploy very simple Layout and Shoot endoint. the following two cells wil train and deploy those models. you can also run these commands in parrallel by opening up a terminal window. "
   ]
  },
  {
   "cell_type": "code",
   "execution_count": 3,
   "metadata": {},
   "outputs": [
    {
     "name": "stdout",
     "output_type": "stream",
     "text": [
      "Layout pipeline started succesfully\n",
      "{\n",
      "  ResponseMetadata: { RequestId: \u001b[32m'0fb5a34e-9b4f-577f-b4cc-f68110dfa6f6'\u001b[39m },\n",
      "  MessageId: \u001b[32m'4f5f6e26-5d8f-5372-8899-3be9d61fa2fb'\u001b[39m\n",
      "}\n",
      ".........................................................................................................................................................finished\n"
     ]
    }
   ],
   "source": [
    "!cd ../.. && ./bin/startLayoutPipeline.js"
   ]
  },
  {
   "cell_type": "code",
   "execution_count": 4,
   "metadata": {},
   "outputs": [
    {
     "name": "stdout",
     "output_type": "stream",
     "text": [
      "Shoot pipeline started succesfully\n",
      "{\n",
      "  ResponseMetadata: { RequestId: \u001b[32m'cdce8428-5e3f-5971-bb2c-d1e7d09dfc88'\u001b[39m },\n",
      "  MessageId: \u001b[32m'faebed00-7363-5eed-b66c-b8cffdc17b14'\u001b[39m\n",
      "}\n",
      "....................................................................................................................................................................finished\n"
     ]
    }
   ],
   "source": [
    "!cd ../.. && ./bin/startShootPipeline.js"
   ]
  },
  {
   "cell_type": "markdown",
   "metadata": {},
   "source": [
    "## Register Team\n",
    "Once your two endpoints and deployed and up you can now register your team and start playing. Run the following cell to get the information needed to register your team"
   ]
  },
  {
   "cell_type": "code",
   "execution_count": 5,
   "metadata": {},
   "outputs": [
    {
     "name": "stdout",
     "output_type": "stream",
     "text": [
      "\u001b[1;39m{\r\n",
      "  \u001b[0m\u001b[34;1m\"layoutEndpoint\"\u001b[0m\u001b[1;39m: \u001b[0m\u001b[0;32m\"ml-gameday-prod-1-layoutpipeline-1088w7gt7ja2m\"\u001b[0m\u001b[1;39m,\r\n",
      "  \u001b[0m\u001b[34;1m\"shootEndpoint\"\u001b[0m\u001b[1;39m: \u001b[0m\u001b[0;32m\"ml-gameday-prod-1-shootpipeline-1m187honzu6oz\"\u001b[0m\u001b[1;39m,\r\n",
      "  \u001b[0m\u001b[34;1m\"ErrorSNSTopicArn\"\u001b[0m\u001b[1;39m: \u001b[0m\u001b[0;32m\"arn:aws:sns:us-east-1:613341023709:ml-gameday-prod-1-ErrorTopic-145ZO28KQB17A\"\u001b[0m\u001b[1;39m,\r\n",
      "  \u001b[0m\u001b[34;1m\"RoleArn\"\u001b[0m\u001b[1;39m: \u001b[0m\u001b[0;32m\"arn:aws:iam::613341023709:role/ml-gameday-prod-1-CrossAccountRole-1D0BLIP0KW1C2\"\u001b[0m\u001b[1;39m\r\n",
      "\u001b[1;39m}\u001b[0m\r\n"
     ]
    }
   ],
   "source": [
    "!../../bin/register_outputs.sh"
   ]
  },
  {
   "cell_type": "markdown",
   "metadata": {},
   "source": [
    "## Share Data Bucket\n",
    "there is a single s3 bucket that data will need to be uploaded to inorder to be used by endpoint teams. You can find this bucket by running:"
   ]
  },
  {
   "cell_type": "code",
   "execution_count": 3,
   "metadata": {},
   "outputs": [
    {
     "name": "stdout",
     "output_type": "stream",
     "text": [
      "Data Bucket:\n",
      "\u001b[0;32m\"gameday-gameday-6-pipelines-yffq70dnlb-databucket-6mpcdctojsdq\"\u001b[0m\n"
     ]
    }
   ],
   "source": [
    "!echo \"Data Bucket:\"\n",
    "!../../bin/output.js | jq '.DataBucket'"
   ]
  },
  {
   "cell_type": "markdown",
   "metadata": {},
   "source": [
    "## retrain and redeploy models\n",
    "\n",
    "- Whent the Offensive and Defensive groups have changes they will commit them to their branches. Merge their branches into Dev first to check for any conflicts, then merge into master. \n",
    "```shell\n",
    "git checkout shoot # or layout if it was the layout team\n",
    "git pull\n",
    "git checkout dev\n",
    "git merge shoot\n",
    "git checkout master\n",
    "git merge dev\n",
    "```\n",
    "\n",
    "- to update your models you can kick off new pipeline jobs using the same startLayoutPipeline.js and startShootPipeline.js scripts you ran earlier.\n",
    "```shell\n",
    "./bin/startLayoutPipeline.js #for layout changes\n",
    "./bin/startShootPipeline.js #for shoot changes\n",
    "```\n",
    "\n"
   ]
  },
  {
   "cell_type": "markdown",
   "metadata": {},
   "source": [
    "## Checking for Errors\n",
    "One of the resources that the earlier cloudformation template creates is an SQS Queue that holds Errors from the games. You should check this queue to make sure all the endpoints are working correctly. It might also be smart to set up a __cloud watch alarm__ to alert you when ever messages come into that queue"
   ]
  },
  {
   "cell_type": "code",
   "execution_count": null,
   "metadata": {},
   "outputs": [],
   "source": []
  }
 ],
 "metadata": {
  "kernelspec": {
   "display_name": "Python 3",
   "language": "python",
   "name": "python3"
  },
  "language_info": {
   "codemirror_mode": {
    "name": "ipython",
    "version": 3
   },
   "file_extension": ".py",
   "mimetype": "text/x-python",
   "name": "python",
   "nbconvert_exporter": "python",
   "pygments_lexer": "ipython3",
   "version": "3.6.5"
  }
 },
 "nbformat": 4,
 "nbformat_minor": 2
}
