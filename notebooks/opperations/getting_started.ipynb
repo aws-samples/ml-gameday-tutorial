{
 "cells": [
  {
   "cell_type": "markdown",
   "metadata": {},
   "source": [
    "<img src=\"../assets/logos/Logo_operations.png\" width=500></img>\n"
   ]
  },
  {
   "cell_type": "markdown",
   "metadata": {},
   "source": [
    "## Welcome!\n",
    "Welcome to the opperations group! you are responsible for deploy the code and models for your team and this guide will walk you through how to do you job. You will:\n",
    "\n",
    "1. launch asset bucket\n",
    "1. launch resources\n",
    "1. Train and deploy models\n",
    "1. register your team\n",
    "1. retrain and redeploy models\n",
    "1. clean up resources when the game is done"
   ]
  },
  {
   "cell_type": "markdown",
   "metadata": {},
   "source": [
    "## Launch Asset Bucket \n",
    "Now we are going to launch a cloudformation template that creates and S3 \"Asset\" bucket to hold all the assets we need to launch the main cloudformatio template. All you need to do is run the following cell"
   ]
  },
  {
   "cell_type": "code",
   "execution_count": null,
   "metadata": {},
   "outputs": [],
   "source": [
    "!npm run bootstrap"
   ]
  },
  {
   "cell_type": "markdown",
   "metadata": {},
   "source": [
    "## Launch"
   ]
  },
  {
   "cell_type": "markdown",
   "metadata": {},
   "source": [
    "Lastly, we will launch the main cloudformation template with all the infastructure we will need. The following cell will launch a cloudformation template that has:\n",
    "\n",
    "- aws-sagemaker-build pipeline for the Layout Endpoint\n",
    "- aws-sagemaker-build pipeline for the Shoot Endpoint\n",
    "- an SNS Topic and SQS Queue to recieve errors from the Game Engine\n",
    "- A IAM role that the Game Engine will assume inorder to call your endpoint\n",
    "- An AWS glue crawler and database for the game data"
   ]
  },
  {
   "cell_type": "code",
   "execution_count": null,
   "metadata": {},
   "outputs": [],
   "source": [
    "!npm run up"
   ]
  },
  {
   "cell_type": "markdown",
   "metadata": {},
   "source": [
    "## Train and Deploy Initial Models\n",
    "\n",
    "now that you have the infastructure up you need to train and deploy your models. This repository already has code to deploy very simple Layout and Shoot endoint. the following two cells wil train and deploy those models. you can also run these commands in parrallel by opening up a terminal window. "
   ]
  },
  {
   "cell_type": "code",
   "execution_count": null,
   "metadata": {},
   "outputs": [],
   "source": [
    "!cd .. && ./bin/startLayoutPipeline.js"
   ]
  },
  {
   "cell_type": "code",
   "execution_count": null,
   "metadata": {},
   "outputs": [],
   "source": [
    "!cd .. && ./bin/startShootPipeline.js"
   ]
  },
  {
   "cell_type": "markdown",
   "metadata": {},
   "source": [
    "## Register Team\n",
    "Once your two endpoints and deployed and up you can now register your team and start playing. Run the following cell to get the information needed to register your team"
   ]
  },
  {
   "cell_type": "code",
   "execution_count": 4,
   "metadata": {},
   "outputs": [
    {
     "name": "stdout",
     "output_type": "stream",
     "text": [
      "(node:44376) UnhandledPromiseRejectionWarning: Unhandled promise rejection (rejection id: 1): ValidationError: Stack with id battleship-bootstrap-dev-0 does not exist\r\n",
      "(node:44376) [DEP0018] DeprecationWarning: Unhandled promise rejections are deprecated. In the future, promise rejections that are not handled will terminate the Node.js process with a non-zero exit code.\r\n"
     ]
    }
   ],
   "source": [
    "!../bin/register_outputs.sh"
   ]
  },
  {
   "cell_type": "markdown",
   "metadata": {},
   "source": [
    "## Share Data Bucket\n",
    "there is a single s3 bucket that data will need to be uploaded to inorder to be used by endpoint teams. You can find this bucket by running:"
   ]
  },
  {
   "cell_type": "code",
   "execution_count": null,
   "metadata": {},
   "outputs": [],
   "source": [
    "!echo \"Data Bucket:\"\n",
    "!../templates/main/bin/output.js | jq '.DataBucket'"
   ]
  },
  {
   "cell_type": "markdown",
   "metadata": {},
   "source": [
    "## retrain and redeploy models\n",
    "\n",
    "- Whent the Offensive and Defensive groups have changes they will commit them to their branches. Merge their branches into Dev first to check for any conflicts, then merge into master. \n",
    "```shell\n",
    "git checkout shoot # or layout if it was the layout team\n",
    "git pull\n",
    "git checkout dev\n",
    "git merge shoot\n",
    "git checkout master\n",
    "git merge dev\n",
    "```\n",
    "\n",
    "- run the following to update the infastructure\n",
    "```shell\n",
    "npm run update\n",
    "```\n",
    "\n",
    "- to update your models you can kick off new pipeline jobs using the same startLayoutPipeline.js and startShootPipeline.js scripts you ran earlier.\n",
    "```shell\n",
    "./bin/startLayoutPipeline.js #for layout changes\n",
    "./bin/startShootPipeline.js #for shoot changes\n",
    "```\n",
    "\n"
   ]
  },
  {
   "cell_type": "markdown",
   "metadata": {},
   "source": [
    "## Checking for Errors\n",
    "One of the resources that the earlier cloudformation template creates is an SQS Queue that holds Errors from the games. You should check this queue to make sure all the endpoints are working correctly. It might also be smart to set up a __cloud watch alarm__ to alert you when ever messages come into that queue"
   ]
  },
  {
   "cell_type": "markdown",
   "metadata": {},
   "source": [
    "## Cleaning up\n",
    "When the day is over go to the cloudformation console and delete all the cloudformation templates inorder to stop being charged for the resources and delete an IAM users you created for the event.\n",
    "\n",
    "1. run the following command to delete the deployment resources\n",
    "```shell\n",
    "npm run down\n",
    "```\n",
    "```shell\n",
    "npm run down_bootstrap\n",
    "```\n",
    "2. go the cloudformation console to delete the notebook template\n",
    "3. go to the IAM console and delete any IAM users you created for the day"
   ]
  },
  {
   "cell_type": "code",
   "execution_count": null,
   "metadata": {},
   "outputs": [],
   "source": []
  }
 ],
 "metadata": {
  "kernelspec": {
   "display_name": "Python 3",
   "language": "python",
   "name": "conda_python3"
  },
  "language_info": {
   "codemirror_mode": {
    "name": "ipython",
    "version": 3
   },
   "file_extension": ".py",
   "mimetype": "text/x-python",
   "name": "python",
   "nbconvert_exporter": "python",
   "pygments_lexer": "ipython3",
   "version": "3.6.5"
  }
 },
 "nbformat": 4,
 "nbformat_minor": 2
}
