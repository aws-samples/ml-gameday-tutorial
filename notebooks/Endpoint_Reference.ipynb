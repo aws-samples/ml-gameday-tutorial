{
 "cells": [
  {
   "cell_type": "markdown",
   "metadata": {},
   "source": [
    "<img src=\"assets/logos/Logo_endpoint.png\" width=500></img>\n"
   ]
  },
  {
   "cell_type": "markdown",
   "metadata": {},
   "source": [
    "## Code\n",
    "code is in /containers and each directory there containes the following files\n",
    "    \n",
    "- ### /containers/*/Makefile\n",
    "Makefile for creating the tar.gz file of code for sagemaker framework containers\n",
    "\n",
    "- ### /containers/*/host.py\n",
    "The code for generating inferences\n",
    "\n",
    "- ### /containers/*/test.py\n",
    "code for testing the the host.py and train.py files localy\n",
    "\n",
    "- ### /containers/*/train.py\n",
    "the training code\n"
   ]
  },
  {
   "cell_type": "markdown",
   "metadata": {},
   "source": [
    "## Deployment flow\n",
    "<img src=\"assets/build/deployment-flow.png\" width=800></img>\n",
    "\n"
   ]
  },
  {
   "cell_type": "markdown",
   "metadata": {},
   "source": [
    "## Pipeline Config\n",
    "You pipeline is using aws-sagemaker-build which you should read more about [here](https://aws.amazon.com/blogs/machine-learning/automated-and-continuous-deployment-of-amazon-sagemaker-models-with-aws-step-functions/)\n",
    "\n",
    "- deployment configuration (hyperparamters, HPO configuration, deployment environmental variables) is part of the cloudformation template in __/templates/main/sagebuild/shoot.js__ or __/templates/main/sagebuild/layout.js__\n",
    "    - this is a nodejs file that is used to generate the cloudformation template for you infastructure. you should not need to edit it more than just replace value in the apporiate object\n",
    "- LayoutPipeline and ShootPipeline objects configure the pipelines for the respective endpoint. The follow describes the properties you change/should change\n",
    "\n",
    "|Parameter Name| Description | Suggested Value|\n",
    "|---|---|---|\n",
    "|ConfigFramework\"|the framework you want to use, one of \"TENSORFLOW\" \"MXNET\" or \"SCIKIT\"|\"MXNET\"|\n",
    "|frameworkversion|frame work version|\"1.3.0\"|\n",
    "|inputmode|\"File\" or \"Pipe\" depending on what input mode you want|\"File\"|\n",
    "|hyperparameters|key value hyperparameters to send to your training job|{}|\n",
    "|channels|the data channels for the instance, the suggested value will create a training data channel pointing to data with the 'data/train' prefix in the data bucket|{\"train\":{\"path\":\"data/train\"}}|\n",
    "|trainvolumesize|how much EBS storage to attach to the training instances|\"5\"|\n",
    "|traininstancecount|how many instances you want to use for training|1|\n",
    "|hostinstancetype|inference instance type|\"ml.t2.medium\"|\n",
    "|traininstancetype|training instance type|\"ml.m5.large\"|\n",
    "\n",
    "for for details on possible parameters and values see the [aws-sagemaker-build documentation](https://github.com/aws-samples/aws-sagemaker-build#Parameters). After you make changes run the following to apply them to your development pipeline\n",
    "```shell\n",
    "npm run update\n",
    "```"
   ]
  },
  {
   "cell_type": "markdown",
   "metadata": {},
   "source": [
    "## Test\n",
    "\n",
    "### Local\n",
    "- edit /containers/*/test.py to configure your testing\n",
    "- run test.py\n",
    "```shell\n",
    "./test.py\n",
    "```\n",
    "\n",
    "### Deployed\n",
    "- train and deploy your model\n",
    "\n",
    "```shell\n",
    "npm run up # create testing infastructure\n",
    "./bin/startLayoutPipeline.js # start deployment for Defensive team\n",
    "./bin/startShootPipeline.js # start deployment for Offensive team\n",
    "\n",
    "```\n",
    "- edit /bin/testLayout.py or /bin/testShoot.py\n",
    "- run \n",
    "```shell\n",
    "/bin/testLayout.py # test for Defensive team\n",
    "/bin/testShoot.py # test for Offensive team\n",
    "```"
   ]
  },
  {
   "cell_type": "markdown",
   "metadata": {},
   "source": [
    "## Pushing your changes\n",
    "once you have made your changes and are ready to deploy them to production follow these steps\n",
    "1. run the following command to stage files you change to be commited\n",
    "```shell\n",
    "git add <your file>\n",
    "```\n",
    "1. commit your changes with a message\n",
    "```shell\n",
    "git commit -m \"<your message>\"\n",
    "```\n",
    "1. push your changes to the remote repository\n",
    "```shell\n",
    "git push shoot #for offense\n",
    "git push layout # for defense\n",
    "```\n",
    "1. inform your opperations that there are changes to deploy"
   ]
  },
  {
   "cell_type": "markdown",
   "metadata": {},
   "source": [
    "## Data\n",
    "All games are recorded and available in the game archive bucket. You will not be able to access the the data bucket until the opperations group has registered your team. \n",
    "\n",
    "### Download\n",
    "The following script will download all the data from the S3 bucket (set in the config.js), unzip it, and merge it into a single file at /data/data.json\n",
    "```shell\n",
    "./bin/download_data.sh\n",
    "```\n",
    "\n",
    "### Format:\n",
    "The /data/data.json file is a new line deliminated json file with the following format\n",
    "```json\n",
    "{                                                                                      \n",
    "    \"Status\":\"Finished\",\n",
    "    \"winner\":\"B\",\n",
    "    \"start_time\":\"<epoch time>\",\n",
    "    \"end_time\":\"<epoch time>\",\n",
    "\t\"GameId\":\"d0d73e64-bd47-4bb2-ab50-ed0bd1935066\",\n",
    "    \"TeamA\":{\n",
    "        \"layout\":[[0,0 ...],...],\n",
    "        \"score\":0,\n",
    "        \"session\":{},\n",
    "        \"name\":\"purple people eaters\",\n",
    "\t\t\"shots\":[{\"x\":6,\"y\":1},....]\n",
    "     },\n",
    "     \"TeamB\":{\n",
    "        \"layout\":[[0,0 ...],...],\n",
    "        \"score\":0,\n",
    "        \"session\":{},\n",
    "        \"name\":\"the dr strange loves\",\n",
    "\t\t\"shots\":[{\"x\":1,\"y\":4},....]\n",
    "\t }\n",
    "}\n",
    "```\n",
    "|top level field|Description|\n",
    "|---|---|\n",
    "|Status||\n",
    "|winner||\n",
    "|start_time||\n",
    "|end_time||\n",
    "|GameId||\n",
    "\n",
    "|Team* Field|Description|\n",
    "|---|---|\n",
    "|layout||\n",
    "|score||\n",
    "|session||\n",
    "|shots||\n",
    "|name||\n",
    "\n",
    "### Upload training data\n",
    "after you have done any transformation to the data you will need to upload the data to the appropriate data bucket. Talk with your opperations team to get the data bucket for your group"
   ]
  },
  {
   "cell_type": "markdown",
   "metadata": {},
   "source": [
    "## Push and Commit\n",
    "When you have a finish write new code to train and eploy your model commit the changes to your git branch and tell the opperations team to merge in your changes and deploy your code. \n",
    "\n",
    "```shell\n",
    "git commit -a -m \"I am adding these features <these features>\"\n",
    "git push -u origin $(git branch-name)\n",
    "```"
   ]
  },
  {
   "cell_type": "code",
   "execution_count": null,
   "metadata": {},
   "outputs": [],
   "source": []
  }
 ],
 "metadata": {
  "kernelspec": {
   "display_name": "Python 3",
   "language": "python",
   "name": "conda_python3"
  },
  "language_info": {
   "codemirror_mode": {
    "name": "ipython",
    "version": 3
   },
   "file_extension": ".py",
   "mimetype": "text/x-python",
   "name": "python",
   "nbconvert_exporter": "python",
   "pygments_lexer": "ipython3",
   "version": "3.6.5"
  }
 },
 "nbformat": 4,
 "nbformat_minor": 2
}
